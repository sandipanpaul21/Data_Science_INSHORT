{
  "nbformat": 4,
  "nbformat_minor": 0,
  "metadata": {
    "colab": {
      "provenance": [],
      "authorship_tag": "ABX9TyNNq9J8+20sxLUnYQEpn+SH",
      "include_colab_link": true
    },
    "kernelspec": {
      "name": "python3",
      "display_name": "Python 3"
    }
  },
  "cells": [
    {
      "cell_type": "markdown",
      "metadata": {
        "id": "view-in-github",
        "colab_type": "text"
      },
      "source": [
        "<a href=\"https://colab.research.google.com/github/sandipanpaul21/Data_Science_INSHORT/blob/main/EDA_03_Outliers_Missing_Values.ipynb\" target=\"_parent\"><img src=\"https://colab.research.google.com/assets/colab-badge.svg\" alt=\"Open In Colab\"/></a>"
      ]
    },
    {
      "cell_type": "markdown",
      "source": [
        "**Missing Value and Outlier Detection IN SHORT**\n",
        "\n",
        "\"To ensure that the trained model generalises and stabilises well to the valid range of test inputs, it's important to detect then handle missing values and outliers well.\"\n",
        "\n",
        "**Outliers**\n",
        "- Outliers are those data points that are significantly different from the rest of the dataset. They are often abnormal observations that skew the data distribution.\n",
        "- For example in a dataset of Fixed Deposit Investment, if I find a few investments  priced above Rs 1 Crore much higher than the median investment (for now consider Rs 5 Lacs per FD), they're likely outliers. \n",
        "\n",
        "**Should we remove outliers?**\n",
        "- No, it will lead to data loss. Natural variation can also produce outliers and it's not necessarily a problem. An FD of Rs. 1 Crore is possible in the above example. So why remove it, if we can handle those extreme data points in some other way (the hint is to use the capping method) \n",
        "\n",
        "**Few Outlier Detection Techniques**\n",
        "1. Standard Deviation \n",
        "2. Z Score\n",
        "3. Inter Quartile Range (IQR) / Box Plot\n",
        "4. Percentile"
      ],
      "metadata": {
        "id": "bh1wiVX4lME9"
      }
    },
    {
      "cell_type": "code",
      "source": [
        "# As a first step, we’ll import the necessary modules.\n",
        "import numpy as np\n",
        "import pandas as pd\n",
        "import seaborn as sns\n",
        "import warnings\n",
        "warnings.filterwarnings(\"ignore\")\n",
        "\n",
        "# Create a sample dataset of Fixed Deposit Investment\n",
        "data = [['Sandipan', 28, 15000, 'Male'],['Ashish', 31, 10000, 'Male'],['Vaibhav', 27, 12000, 'Male'],\n",
        "        ['Sukanya', 26, 400000, 'Female'],['Sambit', 28, 20000, 'Male'],['Sandipan', 28, 15000, 'Male'],\n",
        "        ['Ashish', 31, 10000, 'Male'],['Vaibhav', 27, 12000, 'Male'],['Sambit', 28, 20000, 'Male'],\n",
        "        ['Ashish', 31, 10000, 'Male'],['Vaibhav', 27, 12000, 'Male'],['Sambit', 28, 20000, 'Male']]\n",
        "# Create the Pandas DataFrame\n",
        "fd_customer_data = pd.DataFrame(data, columns=['Name', 'Age','Amount','Gender'])\n",
        "fd_customer_data.head()"
      ],
      "metadata": {
        "colab": {
          "base_uri": "https://localhost:8080/",
          "height": 204
        },
        "id": "9Ro9PxeOlLnu",
        "outputId": "b181d050-0353-42a2-ac7b-2a3677474e15"
      },
      "execution_count": 1,
      "outputs": [
        {
          "output_type": "execute_result",
          "data": {
            "text/plain": [
              "       Name  Age  Amount  Gender\n",
              "0  Sandipan   28   15000    Male\n",
              "1    Ashish   31   10000    Male\n",
              "2   Vaibhav   27   12000    Male\n",
              "3   Sukanya   26  400000  Female\n",
              "4    Sambit   28   20000    Male"
            ],
            "text/html": [
              "\n",
              "  <div id=\"df-19a6f218-8dc9-4979-a408-76f3637554b7\">\n",
              "    <div class=\"colab-df-container\">\n",
              "      <div>\n",
              "<style scoped>\n",
              "    .dataframe tbody tr th:only-of-type {\n",
              "        vertical-align: middle;\n",
              "    }\n",
              "\n",
              "    .dataframe tbody tr th {\n",
              "        vertical-align: top;\n",
              "    }\n",
              "\n",
              "    .dataframe thead th {\n",
              "        text-align: right;\n",
              "    }\n",
              "</style>\n",
              "<table border=\"1\" class=\"dataframe\">\n",
              "  <thead>\n",
              "    <tr style=\"text-align: right;\">\n",
              "      <th></th>\n",
              "      <th>Name</th>\n",
              "      <th>Age</th>\n",
              "      <th>Amount</th>\n",
              "      <th>Gender</th>\n",
              "    </tr>\n",
              "  </thead>\n",
              "  <tbody>\n",
              "    <tr>\n",
              "      <th>0</th>\n",
              "      <td>Sandipan</td>\n",
              "      <td>28</td>\n",
              "      <td>15000</td>\n",
              "      <td>Male</td>\n",
              "    </tr>\n",
              "    <tr>\n",
              "      <th>1</th>\n",
              "      <td>Ashish</td>\n",
              "      <td>31</td>\n",
              "      <td>10000</td>\n",
              "      <td>Male</td>\n",
              "    </tr>\n",
              "    <tr>\n",
              "      <th>2</th>\n",
              "      <td>Vaibhav</td>\n",
              "      <td>27</td>\n",
              "      <td>12000</td>\n",
              "      <td>Male</td>\n",
              "    </tr>\n",
              "    <tr>\n",
              "      <th>3</th>\n",
              "      <td>Sukanya</td>\n",
              "      <td>26</td>\n",
              "      <td>400000</td>\n",
              "      <td>Female</td>\n",
              "    </tr>\n",
              "    <tr>\n",
              "      <th>4</th>\n",
              "      <td>Sambit</td>\n",
              "      <td>28</td>\n",
              "      <td>20000</td>\n",
              "      <td>Male</td>\n",
              "    </tr>\n",
              "  </tbody>\n",
              "</table>\n",
              "</div>\n",
              "      <button class=\"colab-df-convert\" onclick=\"convertToInteractive('df-19a6f218-8dc9-4979-a408-76f3637554b7')\"\n",
              "              title=\"Convert this dataframe to an interactive table.\"\n",
              "              style=\"display:none;\">\n",
              "        \n",
              "  <svg xmlns=\"http://www.w3.org/2000/svg\" height=\"24px\"viewBox=\"0 0 24 24\"\n",
              "       width=\"24px\">\n",
              "    <path d=\"M0 0h24v24H0V0z\" fill=\"none\"/>\n",
              "    <path d=\"M18.56 5.44l.94 2.06.94-2.06 2.06-.94-2.06-.94-.94-2.06-.94 2.06-2.06.94zm-11 1L8.5 8.5l.94-2.06 2.06-.94-2.06-.94L8.5 2.5l-.94 2.06-2.06.94zm10 10l.94 2.06.94-2.06 2.06-.94-2.06-.94-.94-2.06-.94 2.06-2.06.94z\"/><path d=\"M17.41 7.96l-1.37-1.37c-.4-.4-.92-.59-1.43-.59-.52 0-1.04.2-1.43.59L10.3 9.45l-7.72 7.72c-.78.78-.78 2.05 0 2.83L4 21.41c.39.39.9.59 1.41.59.51 0 1.02-.2 1.41-.59l7.78-7.78 2.81-2.81c.8-.78.8-2.07 0-2.86zM5.41 20L4 18.59l7.72-7.72 1.47 1.35L5.41 20z\"/>\n",
              "  </svg>\n",
              "      </button>\n",
              "      \n",
              "  <style>\n",
              "    .colab-df-container {\n",
              "      display:flex;\n",
              "      flex-wrap:wrap;\n",
              "      gap: 12px;\n",
              "    }\n",
              "\n",
              "    .colab-df-convert {\n",
              "      background-color: #E8F0FE;\n",
              "      border: none;\n",
              "      border-radius: 50%;\n",
              "      cursor: pointer;\n",
              "      display: none;\n",
              "      fill: #1967D2;\n",
              "      height: 32px;\n",
              "      padding: 0 0 0 0;\n",
              "      width: 32px;\n",
              "    }\n",
              "\n",
              "    .colab-df-convert:hover {\n",
              "      background-color: #E2EBFA;\n",
              "      box-shadow: 0px 1px 2px rgba(60, 64, 67, 0.3), 0px 1px 3px 1px rgba(60, 64, 67, 0.15);\n",
              "      fill: #174EA6;\n",
              "    }\n",
              "\n",
              "    [theme=dark] .colab-df-convert {\n",
              "      background-color: #3B4455;\n",
              "      fill: #D2E3FC;\n",
              "    }\n",
              "\n",
              "    [theme=dark] .colab-df-convert:hover {\n",
              "      background-color: #434B5C;\n",
              "      box-shadow: 0px 1px 3px 1px rgba(0, 0, 0, 0.15);\n",
              "      filter: drop-shadow(0px 1px 2px rgba(0, 0, 0, 0.3));\n",
              "      fill: #FFFFFF;\n",
              "    }\n",
              "  </style>\n",
              "\n",
              "      <script>\n",
              "        const buttonEl =\n",
              "          document.querySelector('#df-19a6f218-8dc9-4979-a408-76f3637554b7 button.colab-df-convert');\n",
              "        buttonEl.style.display =\n",
              "          google.colab.kernel.accessAllowed ? 'block' : 'none';\n",
              "\n",
              "        async function convertToInteractive(key) {\n",
              "          const element = document.querySelector('#df-19a6f218-8dc9-4979-a408-76f3637554b7');\n",
              "          const dataTable =\n",
              "            await google.colab.kernel.invokeFunction('convertToInteractive',\n",
              "                                                     [key], {});\n",
              "          if (!dataTable) return;\n",
              "\n",
              "          const docLinkHtml = 'Like what you see? Visit the ' +\n",
              "            '<a target=\"_blank\" href=https://colab.research.google.com/notebooks/data_table.ipynb>data table notebook</a>'\n",
              "            + ' to learn more about interactive tables.';\n",
              "          element.innerHTML = '';\n",
              "          dataTable['output_type'] = 'display_data';\n",
              "          await google.colab.output.renderOutput(dataTable, element);\n",
              "          const docLink = document.createElement('div');\n",
              "          docLink.innerHTML = docLinkHtml;\n",
              "          element.appendChild(docLink);\n",
              "        }\n",
              "      </script>\n",
              "    </div>\n",
              "  </div>\n",
              "  "
            ]
          },
          "metadata": {},
          "execution_count": 1
        }
      ]
    },
    {
      "cell_type": "code",
      "source": [
        "sns.set_theme()\n",
        "sns.displot(data=fd_customer_data['Amount']).set(title=\"Distribution of Fixed Deposit Amount\", xlabel=\"FD Investment\")"
      ],
      "metadata": {
        "colab": {
          "base_uri": "https://localhost:8080/",
          "height": 398
        },
        "id": "j0xZR_fAl_gz",
        "outputId": "2387e7f7-17ef-4f9e-fb39-0976002f1110"
      },
      "execution_count": 2,
      "outputs": [
        {
          "output_type": "execute_result",
          "data": {
            "text/plain": [
              "<seaborn.axisgrid.FacetGrid at 0x7f4136ad7cd0>"
            ]
          },
          "metadata": {},
          "execution_count": 2
        },
        {
          "output_type": "display_data",
          "data": {
            "text/plain": [
              "<Figure size 360x360 with 1 Axes>"
            ],
            "image/png": "[encoded data removed]"
          },
          "metadata": {}
        }
      ]
    },
    {
      "cell_type": "markdown",
      "source": [
        "**Outlier Detection Using Standard Deviation**\n",
        "- For this outlier detection method, the mean and standard deviation of the residuals are calculated and compared. If a value is a certain number of standard deviations away from the mean, that data point is identified as an outlier. \n",
        "- The specified number of standard deviations is called the threshold. The default value is 3.\n",
        "\n",
        "**NOTE** \n",
        "\n",
        "This method can fail to detect outliers because the outliers increase the standard deviation. The more extreme the outlier, the more the standard deviation is affected."
      ],
      "metadata": {
        "id": "e_rwtUUfuOoo"
      }
    },
    {
      "cell_type": "code",
      "source": [
        "# Outlier Detection Using Standard Deviation\n",
        "# To obtain the mean and standard deviation, we can use the .mean() and the .std() methods, respectively.\n",
        "print('Mean of Dataset(FD Amount) : ',fd_customer_data['Amount'].mean().round(2))\n",
        "print('Standard Deviation of Dataset(FD Amount) : ',fd_customer_data['Amount'].std().round(2))\n",
        "\n",
        "# Set the limit of Standard Deviation\n",
        "# lower limit (lower_limit) to be three standard deviations below the mean\n",
        "# the upper limit (upper_limit) to be three standard deviations above the mean.\n",
        "lower_limit = fd_customer_data['Amount'].mean() - 3*fd_customer_data['Amount'].std()\n",
        "upper_limit = fd_customer_data['Amount'].mean() + 3*fd_customer_data['Amount'].std()\n",
        "print('Lower Limit in terms of Standard Deviation : ',lower_limit.round(2))\n",
        "print('Upper Limit in terms of Standard Deviation : ',upper_limit.round(2))\n",
        "\n",
        "# Filter the dataframe df_scores to only retain the data points in the interval [lower_limit, upper_limit]\n",
        "fd_filtered=fd_customer_data[(fd_customer_data['Amount']>lower_limit)&(fd_customer_data['Amount']<upper_limit)]\n",
        "print(\"\\nNon Outlier Data :\\n\",fd_filtered.head())\n",
        "\n",
        "outlier_data =fd_customer_data[(fd_customer_data['Amount']<lower_limit)|(fd_customer_data['Amount']>upper_limit)]\n",
        "print(\"\\nOutlier Data :\\n\",outlier_data.head()) # Inference as we can observe, Sukanya made an Outlier Investment"
      ],
      "metadata": {
        "colab": {
          "base_uri": "https://localhost:8080/"
        },
        "id": "DouNDgOCmzZQ",
        "outputId": "11463cbf-1627-45b6-bf70-0d836fda523a"
      },
      "execution_count": 3,
      "outputs": [
        {
          "output_type": "stream",
          "name": "stdout",
          "text": [
            "Mean of Dataset(FD Amount) :  46333.33\n",
            "Standard Deviation of Dataset(FD Amount) :  111445.33\n",
            "Lower Limit in terms of Standard Deviation :  -288002.64\n",
            "Upper Limit in terms of Standard Deviation :  380669.31\n",
            "\n",
            "Non Outlier Data :\n",
            "        Name  Age  Amount Gender\n",
            "0  Sandipan   28   15000   Male\n",
            "1    Ashish   31   10000   Male\n",
            "2   Vaibhav   27   12000   Male\n",
            "4    Sambit   28   20000   Male\n",
            "5  Sandipan   28   15000   Male\n",
            "\n",
            "Outlier Data :\n",
            "       Name  Age  Amount  Gender\n",
            "3  Sukanya   26  400000  Female\n"
          ]
        }
      ]
    },
    {
      "cell_type": "markdown",
      "source": [
        "**Detect Outliers Using the Z-Score**\n",
        "\n",
        "- For a normal distribution with mean μ and standard deviation σ, the z-score for a value x in the dataset is given by: z = (x - μ)/σ\n",
        "- From the above equation, we have the following:\n",
        "  - When x = μ, the value of the z-score is 0.\n",
        "  - When x = μ ± 1, μ ± 2, or μ ± 3, the z-score is ± 1, ± 2, or ± 3, respectively.\n",
        "\n",
        "**Notice** how this technique is equivalent to the scores based on the standard deviation above. \n",
        "\n",
        "- Under this transformation, all data points that lie below the lower limit, μ - 3*σ, now map to points that are less than -3 on the z-score scale. \n",
        "- Similarly, all points that lie above the upper limit, μ + 3*σ map to a value above 3 on the z-score scale. So lower_limit, upper_limit becomes -3,3"
      ],
      "metadata": {
        "id": "RgRBpzPZxbBE"
      }
    },
    {
      "cell_type": "code",
      "source": [
        "# Detect Outliers Using the Z-Score\n",
        "fd_customer_data['z_score'] =(fd_customer_data['Amount'] - fd_customer_data['Amount'].mean())/fd_customer_data['Amount'].std()\n",
        "\n",
        "fd_customer_data_filtered = fd_customer_data[(fd_customer_data['z_score']>-3) & (fd_customer_data['z_score']<3)]\n",
        "print(\"Non Outlier Data :\\n\",fd_customer_data_filtered.head())\n",
        "\n",
        "outlier_data = fd_customer_data[(fd_customer_data['z_score']<-3) | (fd_customer_data['z_score']>3)]\n",
        "print(\"\\nOutlier Data :\\n\",outlier_data.head()) # Inference as we can observe, Sukanya made an Outlier Investment"
      ],
      "metadata": {
        "colab": {
          "base_uri": "https://localhost:8080/"
        },
        "id": "NlPblUUqvRRC",
        "outputId": "66996b2d-8b5a-4378-9b5a-91b89b9fcd54"
      },
      "execution_count": 4,
      "outputs": [
        {
          "output_type": "stream",
          "name": "stdout",
          "text": [
            "Non Outlier Data :\n",
            "        Name  Age  Amount Gender   z_score\n",
            "0  Sandipan   28   15000   Male -0.281154\n",
            "1    Ashish   31   10000   Male -0.326019\n",
            "2   Vaibhav   27   12000   Male -0.308073\n",
            "4    Sambit   28   20000   Male -0.236289\n",
            "5  Sandipan   28   15000   Male -0.281154\n",
            "\n",
            "Outlier Data :\n",
            "       Name  Age  Amount  Gender   z_score\n",
            "3  Sukanya   26  400000  Female  3.173454\n"
          ]
        }
      ]
    },
    {
      "cell_type": "code",
      "source": [
        "# Outlier Detection Using Interquartile Range (IQR)\n",
        "sns.boxplot(data=fd_customer_data['Amount']).set(title=\"Box Plot of FD Investment\")"
      ],
      "metadata": {
        "colab": {
          "base_uri": "https://localhost:8080/",
          "height": 301
        },
        "id": "h7AoBywLyf24",
        "outputId": "e2076711-8516-457a-9ac0-d5e1ea92894d"
      },
      "execution_count": 5,
      "outputs": [
        {
          "output_type": "execute_result",
          "data": {
            "text/plain": [
              "[Text(0.5, 1.0, 'Box Plot of FD Investment')]"
            ]
          },
          "metadata": {},
          "execution_count": 5
        },
        {
          "output_type": "display_data",
          "data": {
            "text/plain": [
              "<Figure size 432x288 with 1 Axes>"
            ],
            "image/png": "[encoded data removed]"
          },
          "metadata": {}
        }
      ]
    },
    {
      "cell_type": "code",
      "source": [
        "print(\"Different attributes of FD Investment Dataset\")\n",
        "print(fd_customer_data['Amount'].describe().round(2))\n",
        "# We use the 25% and 75% quartile values from the above result to compute IQR, subsequently set the lower and upper limits to filter\n",
        "IQR = 20000.00 - 11500.00\n",
        "lower_limit = 54 - 1.5*IQR\n",
        "upper_limit = 67 + 1.5*IQR\n",
        "print(\"Upper Limit of FD Investment : \",upper_limit)\n",
        "print(\"Lower Limit of FD Investment : \",lower_limit)\n",
        "fd_filtered = fd_customer_data[(fd_customer_data['Amount']>lower_limit) & (fd_customer_data['Amount']<upper_limit)]\n",
        "print(\"Non Outlier Data :\\n\",fd_filtered.head())\n",
        "outlier_data = fd_customer_data[(fd_customer_data['Amount']<lower_limit) | (fd_customer_data['Amount']>upper_limit)]\n",
        "print(\"Outlier Data :\\n\",outlier_data.head())"
      ],
      "metadata": {
        "colab": {
          "base_uri": "https://localhost:8080/"
        },
        "id": "9FvOtG0dy5m3",
        "outputId": "fc16261e-926a-4561-fa8f-e3b32845dcd8"
      },
      "execution_count": 6,
      "outputs": [
        {
          "output_type": "stream",
          "name": "stdout",
          "text": [
            "Different attributes of FD Investment Dataset\n",
            "count        12.00\n",
            "mean      46333.33\n",
            "std      111445.33\n",
            "min       10000.00\n",
            "25%       11500.00\n",
            "50%       13500.00\n",
            "75%       20000.00\n",
            "max      400000.00\n",
            "Name: Amount, dtype: float64\n",
            "Upper Limit of FD Investment :  12817.0\n",
            "Lower Limit of FD Investment :  -12696.0\n",
            "Non Outlier Data :\n",
            "       Name  Age  Amount Gender   z_score\n",
            "1   Ashish   31   10000   Male -0.326019\n",
            "2  Vaibhav   27   12000   Male -0.308073\n",
            "6   Ashish   31   10000   Male -0.326019\n",
            "7  Vaibhav   27   12000   Male -0.308073\n",
            "9   Ashish   31   10000   Male -0.326019\n",
            "Outlier Data :\n",
            "        Name  Age  Amount  Gender   z_score\n",
            "0  Sandipan   28   15000    Male -0.281154\n",
            "3   Sukanya   26  400000  Female  3.173454\n",
            "4    Sambit   28   20000    Male -0.236289\n",
            "5  Sandipan   28   15000    Male -0.281154\n",
            "8    Sambit   28   20000    Male -0.236289\n"
          ]
        }
      ]
    },
    {
      "cell_type": "markdown",
      "source": [
        "**Outliers Using Percentile**\n",
        "- The interquartile range works by dropping all points that are outside the range q25 - 1.5*(IQR), q75 + 1.5*(IQR) as outliers. \n",
        "- But removing outliers this way may not be the most optimal choice when your observations have a wide distribution. And you may be discarding more points-than you actually should-as outliers.\n",
        "- Depending on the domain, you may want to widen the range of permissible values to estimate the outliers better using percentile. For example, the custom range accommodates all data points that lie anywhere between 0.5 and 99.5 percentile of the dataset."
      ],
      "metadata": {
        "id": "dEiaNPfne4GQ"
      }
    },
    {
      "cell_type": "code",
      "source": [
        "# Outlier Detection Using Percentile\n",
        "lower_limit, upper_limit = np.percentile(a=fd_customer_data['Amount'],q=[0.5,99.5])\n",
        "print(\"Upper Limit of FD Investment : \",upper_limit.round(2))\n",
        "print(\"Lower Limit of FD Investment : \",lower_limit)\n",
        "\n",
        "fd_filtered = fd_customer_data[(fd_customer_data['Amount']>lower_limit) & (fd_customer_data['Amount']<upper_limit)]\n",
        "print(\"Non Outlier Data :\\n\",fd_filtered.head())\n",
        "\n",
        "outlier_data = fd_customer_data[(fd_customer_data['Amount']<lower_limit) | (fd_customer_data['Amount']>upper_limit)]\n",
        "print(\"Outlier Data :\\n\",outlier_data.head())"
      ],
      "metadata": {
        "colab": {
          "base_uri": "https://localhost:8080/"
        },
        "id": "Wt8xNwg-d_5x",
        "outputId": "ee8b202d-631a-4c2e-a182-863e105d4697"
      },
      "execution_count": 7,
      "outputs": [
        {
          "output_type": "stream",
          "name": "stdout",
          "text": [
            "Upper Limit of FD Investment :  379100.0\n",
            "Lower Limit of FD Investment :  10000.0\n",
            "Non Outlier Data :\n",
            "        Name  Age  Amount Gender   z_score\n",
            "0  Sandipan   28   15000   Male -0.281154\n",
            "2   Vaibhav   27   12000   Male -0.308073\n",
            "4    Sambit   28   20000   Male -0.236289\n",
            "5  Sandipan   28   15000   Male -0.281154\n",
            "7   Vaibhav   27   12000   Male -0.308073\n",
            "Outlier Data :\n",
            "       Name  Age  Amount  Gender   z_score\n",
            "3  Sukanya   26  400000  Female  3.173454\n"
          ]
        }
      ]
    },
    {
      "cell_type": "markdown",
      "metadata": {
        "id": "4DtthpEygCWq"
      },
      "source": [
        "**Missing Values**\n",
        "- The absence of values is a cause of concern for datasets and in the Machine Learning model\n",
        "\n",
        "**Methods to impute Missing Values**: Mean, Median, Mode and KNN Imputation\n",
        "\n",
        "**Impute with**\n",
        "1. Mean / Median Value  - For Continuous Data\n",
        "2. Mode Value - For Categorical Data\n",
        "\n",
        "**KNN Imputation**\n",
        "- Each sample's missing values are imputed using the mean value from n_neighbors nearest neighbours found in the training set. Two samples are close if the features that neither is missing are close. By default, a euclidean distance metric supports missing values. nan_euclidean_distances is used to find the nearest neighbours\n",
        "- For imputing missing values in CATEGORICAL VALUES, we have to encode the categorical values into numeric values. kNNImputer works only for numeric variables. We can perform this using a mapping of categories to numeric variables."
      ]
    },
    {
      "cell_type": "code",
      "metadata": {
        "id": "8aFZUtClnYiz",
        "colab": {
          "base_uri": "https://localhost:8080/",
          "height": 173
        },
        "outputId": "734489a2-043c-4539-b61d-d98985340293"
      },
      "source": [
        "# KNN Imputation, First create a small dataframe with missing values in it\n",
        "# import the KNNimputer class\n",
        "from sklearn.impute import KNNImputer\n",
        "dict = {'First':[100, 90, np.nan, 95], \n",
        "        'Second': [30, 45, 56, np.nan], \n",
        "        'Third':[np.nan, 40, 80, 98]} \n",
        "df = pd.DataFrame(dict)\n",
        "df"
      ],
      "execution_count": 8,
      "outputs": [
        {
          "output_type": "execute_result",
          "data": {
            "text/plain": [
              "   First  Second  Third\n",
              "0  100.0    30.0    NaN\n",
              "1   90.0    45.0   40.0\n",
              "2    NaN    56.0   80.0\n",
              "3   95.0     NaN   98.0"
            ],
            "text/html": [
              "\n",
              "  <div id=\"df-526e894a-beb9-4281-ac00-14b5a61543f9\">\n",
              "    <div class=\"colab-df-container\">\n",
              "      <div>\n",
              "<style scoped>\n",
              "    .dataframe tbody tr th:only-of-type {\n",
              "        vertical-align: middle;\n",
              "    }\n",
              "\n",
              "    .dataframe tbody tr th {\n",
              "        vertical-align: top;\n",
              "    }\n",
              "\n",
              "    .dataframe thead th {\n",
              "        text-align: right;\n",
              "    }\n",
              "</style>\n",
              "<table border=\"1\" class=\"dataframe\">\n",
              "  <thead>\n",
              "    <tr style=\"text-align: right;\">\n",
              "      <th></th>\n",
              "      <th>First</th>\n",
              "      <th>Second</th>\n",
              "      <th>Third</th>\n",
              "    </tr>\n",
              "  </thead>\n",
              "  <tbody>\n",
              "    <tr>\n",
              "      <th>0</th>\n",
              "      <td>100.0</td>\n",
              "      <td>30.0</td>\n",
              "      <td>NaN</td>\n",
              "    </tr>\n",
              "    <tr>\n",
              "      <th>1</th>\n",
              "      <td>90.0</td>\n",
              "      <td>45.0</td>\n",
              "      <td>40.0</td>\n",
              "    </tr>\n",
              "    <tr>\n",
              "      <th>2</th>\n",
              "      <td>NaN</td>\n",
              "      <td>56.0</td>\n",
              "      <td>80.0</td>\n",
              "    </tr>\n",
              "    <tr>\n",
              "      <th>3</th>\n",
              "      <td>95.0</td>\n",
              "      <td>NaN</td>\n",
              "      <td>98.0</td>\n",
              "    </tr>\n",
              "  </tbody>\n",
              "</table>\n",
              "</div>\n",
              "      <button class=\"colab-df-convert\" onclick=\"convertToInteractive('df-526e894a-beb9-4281-ac00-14b5a61543f9')\"\n",
              "              title=\"Convert this dataframe to an interactive table.\"\n",
              "              style=\"display:none;\">\n",
              "        \n",
              "  <svg xmlns=\"http://www.w3.org/2000/svg\" height=\"24px\"viewBox=\"0 0 24 24\"\n",
              "       width=\"24px\">\n",
              "    <path d=\"M0 0h24v24H0V0z\" fill=\"none\"/>\n",
              "    <path d=\"M18.56 5.44l.94 2.06.94-2.06 2.06-.94-2.06-.94-.94-2.06-.94 2.06-2.06.94zm-11 1L8.5 8.5l.94-2.06 2.06-.94-2.06-.94L8.5 2.5l-.94 2.06-2.06.94zm10 10l.94 2.06.94-2.06 2.06-.94-2.06-.94-.94-2.06-.94 2.06-2.06.94z\"/><path d=\"M17.41 7.96l-1.37-1.37c-.4-.4-.92-.59-1.43-.59-.52 0-1.04.2-1.43.59L10.3 9.45l-7.72 7.72c-.78.78-.78 2.05 0 2.83L4 21.41c.39.39.9.59 1.41.59.51 0 1.02-.2 1.41-.59l7.78-7.78 2.81-2.81c.8-.78.8-2.07 0-2.86zM5.41 20L4 18.59l7.72-7.72 1.47 1.35L5.41 20z\"/>\n",
              "  </svg>\n",
              "      </button>\n",
              "      \n",
              "  <style>\n",
              "    .colab-df-container {\n",
              "      display:flex;\n",
              "      flex-wrap:wrap;\n",
              "      gap: 12px;\n",
              "    }\n",
              "\n",
              "    .colab-df-convert {\n",
              "      background-color: #E8F0FE;\n",
              "      border: none;\n",
              "      border-radius: 50%;\n",
              "      cursor: pointer;\n",
              "      display: none;\n",
              "      fill: #1967D2;\n",
              "      height: 32px;\n",
              "      padding: 0 0 0 0;\n",
              "      width: 32px;\n",
              "    }\n",
              "\n",
              "    .colab-df-convert:hover {\n",
              "      background-color: #E2EBFA;\n",
              "      box-shadow: 0px 1px 2px rgba(60, 64, 67, 0.3), 0px 1px 3px 1px rgba(60, 64, 67, 0.15);\n",
              "      fill: #174EA6;\n",
              "    }\n",
              "\n",
              "    [theme=dark] .colab-df-convert {\n",
              "      background-color: #3B4455;\n",
              "      fill: #D2E3FC;\n",
              "    }\n",
              "\n",
              "    [theme=dark] .colab-df-convert:hover {\n",
              "      background-color: #434B5C;\n",
              "      box-shadow: 0px 1px 3px 1px rgba(0, 0, 0, 0.15);\n",
              "      filter: drop-shadow(0px 1px 2px rgba(0, 0, 0, 0.3));\n",
              "      fill: #FFFFFF;\n",
              "    }\n",
              "  </style>\n",
              "\n",
              "      <script>\n",
              "        const buttonEl =\n",
              "          document.querySelector('#df-526e894a-beb9-4281-ac00-14b5a61543f9 button.colab-df-convert');\n",
              "        buttonEl.style.display =\n",
              "          google.colab.kernel.accessAllowed ? 'block' : 'none';\n",
              "\n",
              "        async function convertToInteractive(key) {\n",
              "          const element = document.querySelector('#df-526e894a-beb9-4281-ac00-14b5a61543f9');\n",
              "          const dataTable =\n",
              "            await google.colab.kernel.invokeFunction('convertToInteractive',\n",
              "                                                     [key], {});\n",
              "          if (!dataTable) return;\n",
              "\n",
              "          const docLinkHtml = 'Like what you see? Visit the ' +\n",
              "            '<a target=\"_blank\" href=https://colab.research.google.com/notebooks/data_table.ipynb>data table notebook</a>'\n",
              "            + ' to learn more about interactive tables.';\n",
              "          element.innerHTML = '';\n",
              "          dataTable['output_type'] = 'display_data';\n",
              "          await google.colab.output.renderOutput(dataTable, element);\n",
              "          const docLink = document.createElement('div');\n",
              "          docLink.innerHTML = docLinkHtml;\n",
              "          element.appendChild(docLink);\n",
              "        }\n",
              "      </script>\n",
              "    </div>\n",
              "  </div>\n",
              "  "
            ]
          },
          "metadata": {},
          "execution_count": 8
        }
      ]
    },
    {
      "cell_type": "code",
      "metadata": {
        "id": "XvihCoqoaqz6",
        "colab": {
          "base_uri": "https://localhost:8080/"
        },
        "outputId": "7d2ecf05-3b19-460e-e523-dec1104ce538"
      },
      "source": [
        "# Intializing KNN imputation\n",
        "imputer = KNNImputer()\n",
        "df_filled = imputer.fit_transform(df)\n",
        "df_filled\n",
        "\n",
        "# Inference :\n",
        "# As you can see below, that’s the entire missing value is imputated\n",
        "# It’s as simple using median but more effective and accurate than using a simple average"
      ],
      "execution_count": 9,
      "outputs": [
        {
          "output_type": "execute_result",
          "data": {
            "text/plain": [
              "array([[100.        ,  30.        ,  72.66666667],\n",
              "       [ 90.        ,  45.        ,  40.        ],\n",
              "       [ 95.        ,  56.        ,  80.        ],\n",
              "       [ 95.        ,  43.66666667,  98.        ]])"
            ]
          },
          "metadata": {},
          "execution_count": 9
        }
      ]
    },
    {
      "cell_type": "code",
      "metadata": {
        "id": "Xl1sUerkfCIl",
        "colab": {
          "base_uri": "https://localhost:8080/",
          "height": 266
        },
        "outputId": "f280f306-efdf-4c0f-9c7f-15143862b9f2"
      },
      "source": [
        "# Another Example of KNN Imputation\n",
        "# Initializing the list\n",
        "data = [['Sandipan',27,'male'],['Nandita',26,'female'],['Santosh',25,'male'],\n",
        "        ['Ashish',29,'male'],['Nishu',26,None],['Aisha',27,None],['Vaibhav',28,None]]\n",
        "df = pd.DataFrame(data, columns = ['Name','Age','Gender'])\n",
        "df"
      ],
      "execution_count": 10,
      "outputs": [
        {
          "output_type": "execute_result",
          "data": {
            "text/plain": [
              "       Name  Age  Gender\n",
              "0  Sandipan   27    male\n",
              "1   Nandita   26  female\n",
              "2   Santosh   25    male\n",
              "3    Ashish   29    male\n",
              "4     Nishu   26    None\n",
              "5     Aisha   27    None\n",
              "6   Vaibhav   28    None"
            ],
            "text/html": [
              "\n",
              "  <div id=\"df-abe9685c-de19-4480-b858-1854d36acaef\">\n",
              "    <div class=\"colab-df-container\">\n",
              "      <div>\n",
              "<style scoped>\n",
              "    .dataframe tbody tr th:only-of-type {\n",
              "        vertical-align: middle;\n",
              "    }\n",
              "\n",
              "    .dataframe tbody tr th {\n",
              "        vertical-align: top;\n",
              "    }\n",
              "\n",
              "    .dataframe thead th {\n",
              "        text-align: right;\n",
              "    }\n",
              "</style>\n",
              "<table border=\"1\" class=\"dataframe\">\n",
              "  <thead>\n",
              "    <tr style=\"text-align: right;\">\n",
              "      <th></th>\n",
              "      <th>Name</th>\n",
              "      <th>Age</th>\n",
              "      <th>Gender</th>\n",
              "    </tr>\n",
              "  </thead>\n",
              "  <tbody>\n",
              "    <tr>\n",
              "      <th>0</th>\n",
              "      <td>Sandipan</td>\n",
              "      <td>27</td>\n",
              "      <td>male</td>\n",
              "    </tr>\n",
              "    <tr>\n",
              "      <th>1</th>\n",
              "      <td>Nandita</td>\n",
              "      <td>26</td>\n",
              "      <td>female</td>\n",
              "    </tr>\n",
              "    <tr>\n",
              "      <th>2</th>\n",
              "      <td>Santosh</td>\n",
              "      <td>25</td>\n",
              "      <td>male</td>\n",
              "    </tr>\n",
              "    <tr>\n",
              "      <th>3</th>\n",
              "      <td>Ashish</td>\n",
              "      <td>29</td>\n",
              "      <td>male</td>\n",
              "    </tr>\n",
              "    <tr>\n",
              "      <th>4</th>\n",
              "      <td>Nishu</td>\n",
              "      <td>26</td>\n",
              "      <td>None</td>\n",
              "    </tr>\n",
              "    <tr>\n",
              "      <th>5</th>\n",
              "      <td>Aisha</td>\n",
              "      <td>27</td>\n",
              "      <td>None</td>\n",
              "    </tr>\n",
              "    <tr>\n",
              "      <th>6</th>\n",
              "      <td>Vaibhav</td>\n",
              "      <td>28</td>\n",
              "      <td>None</td>\n",
              "    </tr>\n",
              "  </tbody>\n",
              "</table>\n",
              "</div>\n",
              "      <button class=\"colab-df-convert\" onclick=\"convertToInteractive('df-abe9685c-de19-4480-b858-1854d36acaef')\"\n",
              "              title=\"Convert this dataframe to an interactive table.\"\n",
              "              style=\"display:none;\">\n",
              "        \n",
              "  <svg xmlns=\"http://www.w3.org/2000/svg\" height=\"24px\"viewBox=\"0 0 24 24\"\n",
              "       width=\"24px\">\n",
              "    <path d=\"M0 0h24v24H0V0z\" fill=\"none\"/>\n",
              "    <path d=\"M18.56 5.44l.94 2.06.94-2.06 2.06-.94-2.06-.94-.94-2.06-.94 2.06-2.06.94zm-11 1L8.5 8.5l.94-2.06 2.06-.94-2.06-.94L8.5 2.5l-.94 2.06-2.06.94zm10 10l.94 2.06.94-2.06 2.06-.94-2.06-.94-.94-2.06-.94 2.06-2.06.94z\"/><path d=\"M17.41 7.96l-1.37-1.37c-.4-.4-.92-.59-1.43-.59-.52 0-1.04.2-1.43.59L10.3 9.45l-7.72 7.72c-.78.78-.78 2.05 0 2.83L4 21.41c.39.39.9.59 1.41.59.51 0 1.02-.2 1.41-.59l7.78-7.78 2.81-2.81c.8-.78.8-2.07 0-2.86zM5.41 20L4 18.59l7.72-7.72 1.47 1.35L5.41 20z\"/>\n",
              "  </svg>\n",
              "      </button>\n",
              "      \n",
              "  <style>\n",
              "    .colab-df-container {\n",
              "      display:flex;\n",
              "      flex-wrap:wrap;\n",
              "      gap: 12px;\n",
              "    }\n",
              "\n",
              "    .colab-df-convert {\n",
              "      background-color: #E8F0FE;\n",
              "      border: none;\n",
              "      border-radius: 50%;\n",
              "      cursor: pointer;\n",
              "      display: none;\n",
              "      fill: #1967D2;\n",
              "      height: 32px;\n",
              "      padding: 0 0 0 0;\n",
              "      width: 32px;\n",
              "    }\n",
              "\n",
              "    .colab-df-convert:hover {\n",
              "      background-color: #E2EBFA;\n",
              "      box-shadow: 0px 1px 2px rgba(60, 64, 67, 0.3), 0px 1px 3px 1px rgba(60, 64, 67, 0.15);\n",
              "      fill: #174EA6;\n",
              "    }\n",
              "\n",
              "    [theme=dark] .colab-df-convert {\n",
              "      background-color: #3B4455;\n",
              "      fill: #D2E3FC;\n",
              "    }\n",
              "\n",
              "    [theme=dark] .colab-df-convert:hover {\n",
              "      background-color: #434B5C;\n",
              "      box-shadow: 0px 1px 3px 1px rgba(0, 0, 0, 0.15);\n",
              "      filter: drop-shadow(0px 1px 2px rgba(0, 0, 0, 0.3));\n",
              "      fill: #FFFFFF;\n",
              "    }\n",
              "  </style>\n",
              "\n",
              "      <script>\n",
              "        const buttonEl =\n",
              "          document.querySelector('#df-abe9685c-de19-4480-b858-1854d36acaef button.colab-df-convert');\n",
              "        buttonEl.style.display =\n",
              "          google.colab.kernel.accessAllowed ? 'block' : 'none';\n",
              "\n",
              "        async function convertToInteractive(key) {\n",
              "          const element = document.querySelector('#df-abe9685c-de19-4480-b858-1854d36acaef');\n",
              "          const dataTable =\n",
              "            await google.colab.kernel.invokeFunction('convertToInteractive',\n",
              "                                                     [key], {});\n",
              "          if (!dataTable) return;\n",
              "\n",
              "          const docLinkHtml = 'Like what you see? Visit the ' +\n",
              "            '<a target=\"_blank\" href=https://colab.research.google.com/notebooks/data_table.ipynb>data table notebook</a>'\n",
              "            + ' to learn more about interactive tables.';\n",
              "          element.innerHTML = '';\n",
              "          dataTable['output_type'] = 'display_data';\n",
              "          await google.colab.output.renderOutput(dataTable, element);\n",
              "          const docLink = document.createElement('div');\n",
              "          docLink.innerHTML = docLinkHtml;\n",
              "          element.appendChild(docLink);\n",
              "        }\n",
              "      </script>\n",
              "    </div>\n",
              "  </div>\n",
              "  "
            ]
          },
          "metadata": {},
          "execution_count": 10
        }
      ]
    },
    {
      "cell_type": "code",
      "metadata": {
        "id": "0MxzeX8CfqpZ",
        "colab": {
          "base_uri": "https://localhost:8080/",
          "height": 266
        },
        "outputId": "9edfd438-3dc1-4800-81bb-89cebac70d17"
      },
      "source": [
        "# For imputing missing values in categorical variables\n",
        "# We have to encode the categorical values into numeric values,kNNImputer works only for numeric variables\n",
        "# We can perform this using a mapping of categories to numeric variables,Mapping Gender values to 0 and 1\n",
        "df['GenderMap'] = df.Gender.map({'female' : 1, 'male' : 0})\n",
        "df"
      ],
      "execution_count": 11,
      "outputs": [
        {
          "output_type": "execute_result",
          "data": {
            "text/plain": [
              "       Name  Age  Gender  GenderMap\n",
              "0  Sandipan   27    male        0.0\n",
              "1   Nandita   26  female        1.0\n",
              "2   Santosh   25    male        0.0\n",
              "3    Ashish   29    male        0.0\n",
              "4     Nishu   26    None        NaN\n",
              "5     Aisha   27    None        NaN\n",
              "6   Vaibhav   28    None        NaN"
            ],
            "text/html": [
              "\n",
              "  <div id=\"df-c112292b-6477-4cfe-bf2e-2f6cdbcf6c4e\">\n",
              "    <div class=\"colab-df-container\">\n",
              "      <div>\n",
              "<style scoped>\n",
              "    .dataframe tbody tr th:only-of-type {\n",
              "        vertical-align: middle;\n",
              "    }\n",
              "\n",
              "    .dataframe tbody tr th {\n",
              "        vertical-align: top;\n",
              "    }\n",
              "\n",
              "    .dataframe thead th {\n",
              "        text-align: right;\n",
              "    }\n",
              "</style>\n",
              "<table border=\"1\" class=\"dataframe\">\n",
              "  <thead>\n",
              "    <tr style=\"text-align: right;\">\n",
              "      <th></th>\n",
              "      <th>Name</th>\n",
              "      <th>Age</th>\n",
              "      <th>Gender</th>\n",
              "      <th>GenderMap</th>\n",
              "    </tr>\n",
              "  </thead>\n",
              "  <tbody>\n",
              "    <tr>\n",
              "      <th>0</th>\n",
              "      <td>Sandipan</td>\n",
              "      <td>27</td>\n",
              "      <td>male</td>\n",
              "      <td>0.0</td>\n",
              "    </tr>\n",
              "    <tr>\n",
              "      <th>1</th>\n",
              "      <td>Nandita</td>\n",
              "      <td>26</td>\n",
              "      <td>female</td>\n",
              "      <td>1.0</td>\n",
              "    </tr>\n",
              "    <tr>\n",
              "      <th>2</th>\n",
              "      <td>Santosh</td>\n",
              "      <td>25</td>\n",
              "      <td>male</td>\n",
              "      <td>0.0</td>\n",
              "    </tr>\n",
              "    <tr>\n",
              "      <th>3</th>\n",
              "      <td>Ashish</td>\n",
              "      <td>29</td>\n",
              "      <td>male</td>\n",
              "      <td>0.0</td>\n",
              "    </tr>\n",
              "    <tr>\n",
              "      <th>4</th>\n",
              "      <td>Nishu</td>\n",
              "      <td>26</td>\n",
              "      <td>None</td>\n",
              "      <td>NaN</td>\n",
              "    </tr>\n",
              "    <tr>\n",
              "      <th>5</th>\n",
              "      <td>Aisha</td>\n",
              "      <td>27</td>\n",
              "      <td>None</td>\n",
              "      <td>NaN</td>\n",
              "    </tr>\n",
              "    <tr>\n",
              "      <th>6</th>\n",
              "      <td>Vaibhav</td>\n",
              "      <td>28</td>\n",
              "      <td>None</td>\n",
              "      <td>NaN</td>\n",
              "    </tr>\n",
              "  </tbody>\n",
              "</table>\n",
              "</div>\n",
              "      <button class=\"colab-df-convert\" onclick=\"convertToInteractive('df-c112292b-6477-4cfe-bf2e-2f6cdbcf6c4e')\"\n",
              "              title=\"Convert this dataframe to an interactive table.\"\n",
              "              style=\"display:none;\">\n",
              "        \n",
              "  <svg xmlns=\"http://www.w3.org/2000/svg\" height=\"24px\"viewBox=\"0 0 24 24\"\n",
              "       width=\"24px\">\n",
              "    <path d=\"M0 0h24v24H0V0z\" fill=\"none\"/>\n",
              "    <path d=\"M18.56 5.44l.94 2.06.94-2.06 2.06-.94-2.06-.94-.94-2.06-.94 2.06-2.06.94zm-11 1L8.5 8.5l.94-2.06 2.06-.94-2.06-.94L8.5 2.5l-.94 2.06-2.06.94zm10 10l.94 2.06.94-2.06 2.06-.94-2.06-.94-.94-2.06-.94 2.06-2.06.94z\"/><path d=\"M17.41 7.96l-1.37-1.37c-.4-.4-.92-.59-1.43-.59-.52 0-1.04.2-1.43.59L10.3 9.45l-7.72 7.72c-.78.78-.78 2.05 0 2.83L4 21.41c.39.39.9.59 1.41.59.51 0 1.02-.2 1.41-.59l7.78-7.78 2.81-2.81c.8-.78.8-2.07 0-2.86zM5.41 20L4 18.59l7.72-7.72 1.47 1.35L5.41 20z\"/>\n",
              "  </svg>\n",
              "      </button>\n",
              "      \n",
              "  <style>\n",
              "    .colab-df-container {\n",
              "      display:flex;\n",
              "      flex-wrap:wrap;\n",
              "      gap: 12px;\n",
              "    }\n",
              "\n",
              "    .colab-df-convert {\n",
              "      background-color: #E8F0FE;\n",
              "      border: none;\n",
              "      border-radius: 50%;\n",
              "      cursor: pointer;\n",
              "      display: none;\n",
              "      fill: #1967D2;\n",
              "      height: 32px;\n",
              "      padding: 0 0 0 0;\n",
              "      width: 32px;\n",
              "    }\n",
              "\n",
              "    .colab-df-convert:hover {\n",
              "      background-color: #E2EBFA;\n",
              "      box-shadow: 0px 1px 2px rgba(60, 64, 67, 0.3), 0px 1px 3px 1px rgba(60, 64, 67, 0.15);\n",
              "      fill: #174EA6;\n",
              "    }\n",
              "\n",
              "    [theme=dark] .colab-df-convert {\n",
              "      background-color: #3B4455;\n",
              "      fill: #D2E3FC;\n",
              "    }\n",
              "\n",
              "    [theme=dark] .colab-df-convert:hover {\n",
              "      background-color: #434B5C;\n",
              "      box-shadow: 0px 1px 3px 1px rgba(0, 0, 0, 0.15);\n",
              "      filter: drop-shadow(0px 1px 2px rgba(0, 0, 0, 0.3));\n",
              "      fill: #FFFFFF;\n",
              "    }\n",
              "  </style>\n",
              "\n",
              "      <script>\n",
              "        const buttonEl =\n",
              "          document.querySelector('#df-c112292b-6477-4cfe-bf2e-2f6cdbcf6c4e button.colab-df-convert');\n",
              "        buttonEl.style.display =\n",
              "          google.colab.kernel.accessAllowed ? 'block' : 'none';\n",
              "\n",
              "        async function convertToInteractive(key) {\n",
              "          const element = document.querySelector('#df-c112292b-6477-4cfe-bf2e-2f6cdbcf6c4e');\n",
              "          const dataTable =\n",
              "            await google.colab.kernel.invokeFunction('convertToInteractive',\n",
              "                                                     [key], {});\n",
              "          if (!dataTable) return;\n",
              "\n",
              "          const docLinkHtml = 'Like what you see? Visit the ' +\n",
              "            '<a target=\"_blank\" href=https://colab.research.google.com/notebooks/data_table.ipynb>data table notebook</a>'\n",
              "            + ' to learn more about interactive tables.';\n",
              "          element.innerHTML = '';\n",
              "          dataTable['output_type'] = 'display_data';\n",
              "          await google.colab.output.renderOutput(dataTable, element);\n",
              "          const docLink = document.createElement('div');\n",
              "          docLink.innerHTML = docLinkHtml;\n",
              "          element.appendChild(docLink);\n",
              "        }\n",
              "      </script>\n",
              "    </div>\n",
              "  </div>\n",
              "  "
            ]
          },
          "metadata": {},
          "execution_count": 11
        }
      ]
    },
    {
      "cell_type": "code",
      "metadata": {
        "id": "cehhcP2ngP3b",
        "colab": {
          "base_uri": "https://localhost:8080/"
        },
        "outputId": "d0c4610a-2deb-477e-825e-ac15877ee2d4"
      },
      "source": [
        "# Normally Name of a person don't help in the model\n",
        "imputer = KNNImputer(n_neighbors=1) \n",
        "# k=1, we can take any number and check after every irritation\n",
        "df_filled = imputer.fit_transform(df[['Age','GenderMap']])\n",
        "df_filled "
      ],
      "execution_count": 12,
      "outputs": [
        {
          "output_type": "execute_result",
          "data": {
            "text/plain": [
              "array([[27.,  0.],\n",
              "       [26.,  1.],\n",
              "       [25.,  0.],\n",
              "       [29.,  0.],\n",
              "       [26.,  1.],\n",
              "       [27.,  0.],\n",
              "       [28.,  0.]])"
            ]
          },
          "metadata": {},
          "execution_count": 12
        }
      ]
    }
  ]
}