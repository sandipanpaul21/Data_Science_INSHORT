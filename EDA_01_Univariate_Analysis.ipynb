{
  "nbformat": 4,
  "nbformat_minor": 0,
  "metadata": {
    "colab": {
      "provenance": [],
      "authorship_tag": "ABX9TyM3sHnxW3OMgtrODlc4nhY2",
      "include_colab_link": true
    },
    "kernelspec": {
      "name": "python3",
      "display_name": "Python 3"
    },
    "language_info": {
      "name": "python"
    }
  },
  "cells": [
    {
      "cell_type": "markdown",
      "metadata": {
        "id": "view-in-github",
        "colab_type": "text"
      },
      "source": [
        "<a href=\"https://colab.research.google.com/github/sandipanpaul21/Data_Science_INSHORT/blob/main/EDA_01_Univariate_Analysis.ipynb\" target=\"_parent\"><img src=\"https://colab.research.google.com/assets/colab-badge.svg\" alt=\"Open In Colab\"/></a>"
      ]
    },
    {
      "cell_type": "markdown",
      "source": [
        "**UNIVARIATE ANALYSIS**\n",
        "\n",
        "*Uni Means ONE.* So Univariate Analysis is One Variable Analysis. Mainly in this part, we will deal with Numerical Measures. So in total we have 14 Numerical Measures\n",
        "\n",
        "**Measure of Central Tendency:** 1. Mean 2. Median 3. Mode\n",
        "\n",
        "**Measure of Data Spread:** 4. Quartile 5. Percentile 6. Range 7. IQR 8. Boxplot 9. Variance 10. Standard Deviation\n",
        "\n",
        "**Variation between Variables:** 11. Covariance 12. Correlation Coefficient (Pearson and Spearman)\n",
        "\n",
        "**Measure Distribution and Peakness :** 13. Skewness 14. Kurtosis"
      ],
      "metadata": {
        "id": "VgtWrrHkcmJi"
      }
    },
    {
      "cell_type": "code",
      "execution_count": 1,
      "metadata": {
        "colab": {
          "base_uri": "https://localhost:8080/",
          "height": 204
        },
        "id": "sTisxmsVcYsS",
        "outputId": "fd4db4ed-68e9-4af1-f758-8949314aa22c"
      },
      "outputs": [
        {
          "output_type": "execute_result",
          "data": {
            "text/plain": [
              "       Name  Age  Amount  Gender\n",
              "0  Sandipan   28    5000    Male\n",
              "1    Ashish   31   15000    Male\n",
              "2   Vaibhav   27   25000    Male\n",
              "3   Sukanya   26  400000  Female\n",
              "4  Sandipan   28    5000    Male"
            ],
            "text/html": [
              "\n",
              "  <div id=\"df-8e34cad7-ce9a-484e-a9ce-80ce3d77c7c0\">\n",
              "    <div class=\"colab-df-container\">\n",
              "      <div>\n",
              "<style scoped>\n",
              "    .dataframe tbody tr th:only-of-type {\n",
              "        vertical-align: middle;\n",
              "    }\n",
              "\n",
              "    .dataframe tbody tr th {\n",
              "        vertical-align: top;\n",
              "    }\n",
              "\n",
              "    .dataframe thead th {\n",
              "        text-align: right;\n",
              "    }\n",
              "</style>\n",
              "<table border=\"1\" class=\"dataframe\">\n",
              "  <thead>\n",
              "    <tr style=\"text-align: right;\">\n",
              "      <th></th>\n",
              "      <th>Name</th>\n",
              "      <th>Age</th>\n",
              "      <th>Amount</th>\n",
              "      <th>Gender</th>\n",
              "    </tr>\n",
              "  </thead>\n",
              "  <tbody>\n",
              "    <tr>\n",
              "      <th>0</th>\n",
              "      <td>Sandipan</td>\n",
              "      <td>28</td>\n",
              "      <td>5000</td>\n",
              "      <td>Male</td>\n",
              "    </tr>\n",
              "    <tr>\n",
              "      <th>1</th>\n",
              "      <td>Ashish</td>\n",
              "      <td>31</td>\n",
              "      <td>15000</td>\n",
              "      <td>Male</td>\n",
              "    </tr>\n",
              "    <tr>\n",
              "      <th>2</th>\n",
              "      <td>Vaibhav</td>\n",
              "      <td>27</td>\n",
              "      <td>25000</td>\n",
              "      <td>Male</td>\n",
              "    </tr>\n",
              "    <tr>\n",
              "      <th>3</th>\n",
              "      <td>Sukanya</td>\n",
              "      <td>26</td>\n",
              "      <td>400000</td>\n",
              "      <td>Female</td>\n",
              "    </tr>\n",
              "    <tr>\n",
              "      <th>4</th>\n",
              "      <td>Sandipan</td>\n",
              "      <td>28</td>\n",
              "      <td>5000</td>\n",
              "      <td>Male</td>\n",
              "    </tr>\n",
              "  </tbody>\n",
              "</table>\n",
              "</div>\n",
              "      <button class=\"colab-df-convert\" onclick=\"convertToInteractive('df-8e34cad7-ce9a-484e-a9ce-80ce3d77c7c0')\"\n",
              "              title=\"Convert this dataframe to an interactive table.\"\n",
              "              style=\"display:none;\">\n",
              "        \n",
              "  <svg xmlns=\"http://www.w3.org/2000/svg\" height=\"24px\"viewBox=\"0 0 24 24\"\n",
              "       width=\"24px\">\n",
              "    <path d=\"M0 0h24v24H0V0z\" fill=\"none\"/>\n",
              "    <path d=\"M18.56 5.44l.94 2.06.94-2.06 2.06-.94-2.06-.94-.94-2.06-.94 2.06-2.06.94zm-11 1L8.5 8.5l.94-2.06 2.06-.94-2.06-.94L8.5 2.5l-.94 2.06-2.06.94zm10 10l.94 2.06.94-2.06 2.06-.94-2.06-.94-.94-2.06-.94 2.06-2.06.94z\"/><path d=\"M17.41 7.96l-1.37-1.37c-.4-.4-.92-.59-1.43-.59-.52 0-1.04.2-1.43.59L10.3 9.45l-7.72 7.72c-.78.78-.78 2.05 0 2.83L4 21.41c.39.39.9.59 1.41.59.51 0 1.02-.2 1.41-.59l7.78-7.78 2.81-2.81c.8-.78.8-2.07 0-2.86zM5.41 20L4 18.59l7.72-7.72 1.47 1.35L5.41 20z\"/>\n",
              "  </svg>\n",
              "      </button>\n",
              "      \n",
              "  <style>\n",
              "    .colab-df-container {\n",
              "      display:flex;\n",
              "      flex-wrap:wrap;\n",
              "      gap: 12px;\n",
              "    }\n",
              "\n",
              "    .colab-df-convert {\n",
              "      background-color: #E8F0FE;\n",
              "      border: none;\n",
              "      border-radius: 50%;\n",
              "      cursor: pointer;\n",
              "      display: none;\n",
              "      fill: #1967D2;\n",
              "      height: 32px;\n",
              "      padding: 0 0 0 0;\n",
              "      width: 32px;\n",
              "    }\n",
              "\n",
              "    .colab-df-convert:hover {\n",
              "      background-color: #E2EBFA;\n",
              "      box-shadow: 0px 1px 2px rgba(60, 64, 67, 0.3), 0px 1px 3px 1px rgba(60, 64, 67, 0.15);\n",
              "      fill: #174EA6;\n",
              "    }\n",
              "\n",
              "    [theme=dark] .colab-df-convert {\n",
              "      background-color: #3B4455;\n",
              "      fill: #D2E3FC;\n",
              "    }\n",
              "\n",
              "    [theme=dark] .colab-df-convert:hover {\n",
              "      background-color: #434B5C;\n",
              "      box-shadow: 0px 1px 3px 1px rgba(0, 0, 0, 0.15);\n",
              "      filter: drop-shadow(0px 1px 2px rgba(0, 0, 0, 0.3));\n",
              "      fill: #FFFFFF;\n",
              "    }\n",
              "  </style>\n",
              "\n",
              "      <script>\n",
              "        const buttonEl =\n",
              "          document.querySelector('#df-8e34cad7-ce9a-484e-a9ce-80ce3d77c7c0 button.colab-df-convert');\n",
              "        buttonEl.style.display =\n",
              "          google.colab.kernel.accessAllowed ? 'block' : 'none';\n",
              "\n",
              "        async function convertToInteractive(key) {\n",
              "          const element = document.querySelector('#df-8e34cad7-ce9a-484e-a9ce-80ce3d77c7c0');\n",
              "          const dataTable =\n",
              "            await google.colab.kernel.invokeFunction('convertToInteractive',\n",
              "                                                     [key], {});\n",
              "          if (!dataTable) return;\n",
              "\n",
              "          const docLinkHtml = 'Like what you see? Visit the ' +\n",
              "            '<a target=\"_blank\" href=https://colab.research.google.com/notebooks/data_table.ipynb>data table notebook</a>'\n",
              "            + ' to learn more about interactive tables.';\n",
              "          element.innerHTML = '';\n",
              "          dataTable['output_type'] = 'display_data';\n",
              "          await google.colab.output.renderOutput(dataTable, element);\n",
              "          const docLink = document.createElement('div');\n",
              "          docLink.innerHTML = docLinkHtml;\n",
              "          element.appendChild(docLink);\n",
              "        }\n",
              "      </script>\n",
              "    </div>\n",
              "  </div>\n",
              "  "
            ]
          },
          "metadata": {},
          "execution_count": 1
        }
      ],
      "source": [
        "# Import pandas library\n",
        "import pandas as pd\n",
        "import warnings\n",
        "warnings.filterwarnings(\"ignore\")\n",
        "# initialize list of lists\n",
        "data = [['Sandipan', 28, 5000, 'Male'],['Ashish', 31, 15000, 'Male'],\n",
        "        ['Vaibhav', 27, 25000, 'Male'],['Sukanya', 26, 400000, 'Female'],['Sandipan', 28, 5000, 'Male']]\n",
        "# Create the pandas DataFrame\n",
        "fd_customer_data = pd.DataFrame(data, columns=['Name', 'Age','Amount','Gender'])\n",
        "fd_customer_data.head()"
      ]
    },
    {
      "cell_type": "markdown",
      "source": [
        "**Central Tendency**\n",
        "- It may also be called a centre or location of the distribution. The most common measures of central tendency are the arithmetic mean, the median, and the mode.\n",
        "\n",
        "**Mean**\n",
        "- The mean is the **mathematical average of a set of two or more numbers**. It is also known as **Arithmetic Mean**.\n",
        "- Summing the numbers in a set and dividing by the total number gives you the arithmetic mean."
      ],
      "metadata": {
        "id": "CarIjsvZhmwi"
      }
    },
    {
      "cell_type": "code",
      "source": [
        "# Mean\n",
        "# By default, axis = 0 for Column Wise Mean, axis = 0 and Row Wise Mean, axis = 1\n",
        "print(fd_customer_data.mean())\n",
        "# Column-wise Mean calculation. \n",
        "# The Average age of customers in the dataset is 28 and the Average FD investment is Rs 90,000"
      ],
      "metadata": {
        "colab": {
          "base_uri": "https://localhost:8080/"
        },
        "id": "uHowpz2Ecafu",
        "outputId": "61e1b8ac-a607-4df6-a72c-bbe7e784941a"
      },
      "execution_count": 2,
      "outputs": [
        {
          "output_type": "stream",
          "name": "stdout",
          "text": [
            "Age          28.0\n",
            "Amount    90000.0\n",
            "dtype: float64\n"
          ]
        }
      ]
    },
    {
      "cell_type": "markdown",
      "source": [
        "**MEDIAN**\n",
        "- The **median is the middle number in a sorted**, ascending or descending.\n",
        "- The median is sometimes used as opposed to the mean when there are outliers in the sequence that might skew the average of the values whereas **the median in most cases is not affected by outliers**, below is the example.\n",
        "- If there is an **odd amount of numbers**, the median value is the number that is in the middle, with the same amount of numbers below and above.\n",
        "- If there is an **even amount of numbers** in the list, the middle pair must be determined, added together, and divided by two to find the median value."
      ],
      "metadata": {
        "id": "p-yJbBCuhT5U"
      }
    },
    {
      "cell_type": "code",
      "source": [
        "# Median\n",
        "# By default, axis = 0 for Column Wise Mean, axis = 0 and Row Wise Mean, axis = 1\n",
        "fd_customer_data.median()\n",
        "# Column-wise Median calculation. \n",
        "# The inference is Average age of customers in the dataset is 27.5 and the Average FD investment is Rs 20,000. \n",
        "# But Mean FD Investment is Rs. 1,11,250 (refer above). \n",
        "# This is because Mean is affected by Outlier but Median is not affected by Outliers."
      ],
      "metadata": {
        "colab": {
          "base_uri": "https://localhost:8080/"
        },
        "id": "hJhdqRKsen8R",
        "outputId": "7f2fc6aa-5b5d-40bb-f736-d77844163b44"
      },
      "execution_count": 3,
      "outputs": [
        {
          "output_type": "execute_result",
          "data": {
            "text/plain": [
              "Age          28.0\n",
              "Amount    15000.0\n",
              "dtype: float64"
            ]
          },
          "metadata": {},
          "execution_count": 3
        }
      ]
    },
    {
      "cell_type": "code",
      "source": [
        "# Mode \n",
        "fd_customer_data['Gender'].mode()\n",
        "# The inference is the Mode of Gender column is 'Male' as it is the most occurring category in the column."
      ],
      "metadata": {
        "colab": {
          "base_uri": "https://localhost:8080/"
        },
        "id": "MmpAwNMBgpS1",
        "outputId": "be8fa874-d9ed-4d47-c721-6d07d9b47415"
      },
      "execution_count": 4,
      "outputs": [
        {
          "output_type": "execute_result",
          "data": {
            "text/plain": [
              "0    Male\n",
              "dtype: object"
            ]
          },
          "metadata": {},
          "execution_count": 4
        }
      ]
    },
    {
      "cell_type": "code",
      "source": [
        "# Category Wise Distribution\n",
        "fd_customer_data['Gender'].value_counts()"
      ],
      "metadata": {
        "colab": {
          "base_uri": "https://localhost:8080/"
        },
        "id": "xH3k0Nzjieuw",
        "outputId": "63b01f4f-4993-4ef7-dbf8-116f29ba2ff6"
      },
      "execution_count": 5,
      "outputs": [
        {
          "output_type": "execute_result",
          "data": {
            "text/plain": [
              "Male      4\n",
              "Female    1\n",
              "Name: Gender, dtype: int64"
            ]
          },
          "metadata": {},
          "execution_count": 5
        }
      ]
    },
    {
      "cell_type": "markdown",
      "source": [
        "**Data Spread**\n",
        "\n",
        "Spread of data (also known as variation, fluctuation, dispersion, etc.) is the measure of how far the data ranges from the center of data (mean or the median). \n",
        "\n",
        "**Inter Quartile Range(IQR)**\n",
        "- The inter quartile range (IQR) is the length of the middle 50% of that interval of space(25% of Data to 75% of Data).\n",
        "- Example question: Find the IQR for the following data set: 1,2,3,4,5,6,7,8,9,10\n",
        "- **Step 1: Put the numbers in order**\n",
        "  - 1,2,3,4,5,6,7,8,9,10\n",
        "- **Step 2: Make a mark in the centre of the data**\n",
        "  - (1,2,3,4,5) | (6,7,8,9,10) \n",
        "  - **Q1 (First Quartile)** is the median (the middle) of the lower half of the data and **Q3 (Second Quartile)** is the median (the middle) of the upper half of the data. **Q1 = 3 and Q3 = 8.**\n",
        "- **Step 3: Subtract Q1 from Q3**\n",
        "  - 8–3 = 5. This is our **Inter Quartile Range (IQR)**"
      ],
      "metadata": {
        "id": "1HAkxv9MmRWg"
      }
    },
    {
      "cell_type": "code",
      "source": [
        "# IQR, Quartile and Range \n",
        "fd_customer_data.describe().round(2)\n",
        "# Inference is Inter Quartile Range (75% - 25%) of Customer Age is 28–27 = 1. \n",
        "# Range (Min to Max) of the Customer Age is 26 to 31 with the mean age of the customer being 28."
      ],
      "metadata": {
        "colab": {
          "base_uri": "https://localhost:8080/",
          "height": 297
        },
        "id": "E7fdFQZfiztp",
        "outputId": "74f731fe-2f28-46d4-b500-e58e35108ce5"
      },
      "execution_count": 6,
      "outputs": [
        {
          "output_type": "execute_result",
          "data": {
            "text/plain": [
              "         Age     Amount\n",
              "count   5.00       5.00\n",
              "mean   28.00   90000.00\n",
              "std     1.87  173493.52\n",
              "min    26.00    5000.00\n",
              "25%    27.00    5000.00\n",
              "50%    28.00   15000.00\n",
              "75%    28.00   25000.00\n",
              "max    31.00  400000.00"
            ],
            "text/html": [
              "\n",
              "  <div id=\"df-61cf1b41-a76b-4181-b512-cf3555de8bfe\">\n",
              "    <div class=\"colab-df-container\">\n",
              "      <div>\n",
              "<style scoped>\n",
              "    .dataframe tbody tr th:only-of-type {\n",
              "        vertical-align: middle;\n",
              "    }\n",
              "\n",
              "    .dataframe tbody tr th {\n",
              "        vertical-align: top;\n",
              "    }\n",
              "\n",
              "    .dataframe thead th {\n",
              "        text-align: right;\n",
              "    }\n",
              "</style>\n",
              "<table border=\"1\" class=\"dataframe\">\n",
              "  <thead>\n",
              "    <tr style=\"text-align: right;\">\n",
              "      <th></th>\n",
              "      <th>Age</th>\n",
              "      <th>Amount</th>\n",
              "    </tr>\n",
              "  </thead>\n",
              "  <tbody>\n",
              "    <tr>\n",
              "      <th>count</th>\n",
              "      <td>5.00</td>\n",
              "      <td>5.00</td>\n",
              "    </tr>\n",
              "    <tr>\n",
              "      <th>mean</th>\n",
              "      <td>28.00</td>\n",
              "      <td>90000.00</td>\n",
              "    </tr>\n",
              "    <tr>\n",
              "      <th>std</th>\n",
              "      <td>1.87</td>\n",
              "      <td>173493.52</td>\n",
              "    </tr>\n",
              "    <tr>\n",
              "      <th>min</th>\n",
              "      <td>26.00</td>\n",
              "      <td>5000.00</td>\n",
              "    </tr>\n",
              "    <tr>\n",
              "      <th>25%</th>\n",
              "      <td>27.00</td>\n",
              "      <td>5000.00</td>\n",
              "    </tr>\n",
              "    <tr>\n",
              "      <th>50%</th>\n",
              "      <td>28.00</td>\n",
              "      <td>15000.00</td>\n",
              "    </tr>\n",
              "    <tr>\n",
              "      <th>75%</th>\n",
              "      <td>28.00</td>\n",
              "      <td>25000.00</td>\n",
              "    </tr>\n",
              "    <tr>\n",
              "      <th>max</th>\n",
              "      <td>31.00</td>\n",
              "      <td>400000.00</td>\n",
              "    </tr>\n",
              "  </tbody>\n",
              "</table>\n",
              "</div>\n",
              "      <button class=\"colab-df-convert\" onclick=\"convertToInteractive('df-61cf1b41-a76b-4181-b512-cf3555de8bfe')\"\n",
              "              title=\"Convert this dataframe to an interactive table.\"\n",
              "              style=\"display:none;\">\n",
              "        \n",
              "  <svg xmlns=\"http://www.w3.org/2000/svg\" height=\"24px\"viewBox=\"0 0 24 24\"\n",
              "       width=\"24px\">\n",
              "    <path d=\"M0 0h24v24H0V0z\" fill=\"none\"/>\n",
              "    <path d=\"M18.56 5.44l.94 2.06.94-2.06 2.06-.94-2.06-.94-.94-2.06-.94 2.06-2.06.94zm-11 1L8.5 8.5l.94-2.06 2.06-.94-2.06-.94L8.5 2.5l-.94 2.06-2.06.94zm10 10l.94 2.06.94-2.06 2.06-.94-2.06-.94-.94-2.06-.94 2.06-2.06.94z\"/><path d=\"M17.41 7.96l-1.37-1.37c-.4-.4-.92-.59-1.43-.59-.52 0-1.04.2-1.43.59L10.3 9.45l-7.72 7.72c-.78.78-.78 2.05 0 2.83L4 21.41c.39.39.9.59 1.41.59.51 0 1.02-.2 1.41-.59l7.78-7.78 2.81-2.81c.8-.78.8-2.07 0-2.86zM5.41 20L4 18.59l7.72-7.72 1.47 1.35L5.41 20z\"/>\n",
              "  </svg>\n",
              "      </button>\n",
              "      \n",
              "  <style>\n",
              "    .colab-df-container {\n",
              "      display:flex;\n",
              "      flex-wrap:wrap;\n",
              "      gap: 12px;\n",
              "    }\n",
              "\n",
              "    .colab-df-convert {\n",
              "      background-color: #E8F0FE;\n",
              "      border: none;\n",
              "      border-radius: 50%;\n",
              "      cursor: pointer;\n",
              "      display: none;\n",
              "      fill: #1967D2;\n",
              "      height: 32px;\n",
              "      padding: 0 0 0 0;\n",
              "      width: 32px;\n",
              "    }\n",
              "\n",
              "    .colab-df-convert:hover {\n",
              "      background-color: #E2EBFA;\n",
              "      box-shadow: 0px 1px 2px rgba(60, 64, 67, 0.3), 0px 1px 3px 1px rgba(60, 64, 67, 0.15);\n",
              "      fill: #174EA6;\n",
              "    }\n",
              "\n",
              "    [theme=dark] .colab-df-convert {\n",
              "      background-color: #3B4455;\n",
              "      fill: #D2E3FC;\n",
              "    }\n",
              "\n",
              "    [theme=dark] .colab-df-convert:hover {\n",
              "      background-color: #434B5C;\n",
              "      box-shadow: 0px 1px 3px 1px rgba(0, 0, 0, 0.15);\n",
              "      filter: drop-shadow(0px 1px 2px rgba(0, 0, 0, 0.3));\n",
              "      fill: #FFFFFF;\n",
              "    }\n",
              "  </style>\n",
              "\n",
              "      <script>\n",
              "        const buttonEl =\n",
              "          document.querySelector('#df-61cf1b41-a76b-4181-b512-cf3555de8bfe button.colab-df-convert');\n",
              "        buttonEl.style.display =\n",
              "          google.colab.kernel.accessAllowed ? 'block' : 'none';\n",
              "\n",
              "        async function convertToInteractive(key) {\n",
              "          const element = document.querySelector('#df-61cf1b41-a76b-4181-b512-cf3555de8bfe');\n",
              "          const dataTable =\n",
              "            await google.colab.kernel.invokeFunction('convertToInteractive',\n",
              "                                                     [key], {});\n",
              "          if (!dataTable) return;\n",
              "\n",
              "          const docLinkHtml = 'Like what you see? Visit the ' +\n",
              "            '<a target=\"_blank\" href=https://colab.research.google.com/notebooks/data_table.ipynb>data table notebook</a>'\n",
              "            + ' to learn more about interactive tables.';\n",
              "          element.innerHTML = '';\n",
              "          dataTable['output_type'] = 'display_data';\n",
              "          await google.colab.output.renderOutput(dataTable, element);\n",
              "          const docLink = document.createElement('div');\n",
              "          docLink.innerHTML = docLinkHtml;\n",
              "          element.appendChild(docLink);\n",
              "        }\n",
              "      </script>\n",
              "    </div>\n",
              "  </div>\n",
              "  "
            ]
          },
          "metadata": {},
          "execution_count": 6
        }
      ]
    },
    {
      "cell_type": "markdown",
      "source": [
        "**Percentile**\n",
        "- The value below which a percentage of data falls. \n",
        "- **Example**: You are the fourth tallest person in a group of 20. 80% of people are shorter than you."
      ],
      "metadata": {
        "id": "2xJ54BnnqTIc"
      }
    },
    {
      "cell_type": "code",
      "source": [
        "# Percentile\n",
        "fd_customer_data['Amount'].quantile([0, 0.2, 0.4, 0.6, 0.8, 1])\n",
        "# The inference is for the first 60% of data, the amount invested is Rs 19,000 \n",
        "# But the remaining 40% amount invested is almost tangentially very high from Rs 19,000 to Rs 4,00,000. \n",
        "# Is this normal or an outlier is there?"
      ],
      "metadata": {
        "colab": {
          "base_uri": "https://localhost:8080/"
        },
        "id": "TfP9vA7Lm3K8",
        "outputId": "8a2fdb01-5942-498a-8739-fb5b7baa6f50"
      },
      "execution_count": 7,
      "outputs": [
        {
          "output_type": "execute_result",
          "data": {
            "text/plain": [
              "0.0      5000.0\n",
              "0.2      5000.0\n",
              "0.4     11000.0\n",
              "0.6     19000.0\n",
              "0.8    100000.0\n",
              "1.0    400000.0\n",
              "Name: Amount, dtype: float64"
            ]
          },
          "metadata": {},
          "execution_count": 7
        }
      ]
    },
    {
      "cell_type": "code",
      "source": [
        "# Boxplot\n",
        "import seaborn as sns\n",
        "print(\"Box Plot for FD Investment Dataset\")\n",
        "sns.boxplot(data = fd_customer_data['Age'], orient = 'h')\n",
        "# The inference is box plot for Customer Age invest in FD, Q3 is at Age 25 and Outlier is shown at 31. \n",
        "# But is Age 31 a really an Outlier ?"
      ],
      "metadata": {
        "colab": {
          "base_uri": "https://localhost:8080/",
          "height": 299
        },
        "id": "VFNYWfo2o_FM",
        "outputId": "be5e669f-c44c-4365-a53c-d120006b40b5"
      },
      "execution_count": 8,
      "outputs": [
        {
          "output_type": "stream",
          "name": "stdout",
          "text": [
            "Box Plot for FD Investment Dataset\n"
          ]
        },
        {
          "output_type": "execute_result",
          "data": {
            "text/plain": [
              "<matplotlib.axes._subplots.AxesSubplot at 0x7ff526e43f90>"
            ]
          },
          "metadata": {},
          "execution_count": 8
        },
        {
          "output_type": "display_data",
          "data": {
            "text/plain": [
              "<Figure size 432x288 with 1 Axes>"
            ],
            "image/png": "[encoded data removed]"
          },
          "metadata": {
            "needs_background": "light"
          }
        }
      ]
    },
    {
      "cell_type": "markdown",
      "source": [
        "**Standard Deviation**\n",
        "\n",
        "The Standard Deviation is a measure of how spread out numbers are. Symbol is σ (the greek letter sigma). The formula is easy: it is the square root of the Variance. \n",
        "\n",
        "**Variance**\n",
        "\n",
        "The average of the squared differences from the Mean.\n",
        "\n",
        "**To calculate the variance follow these steps:**\n",
        "\n",
        "1. Work out the Mean (the simple average of the numbers)\n",
        "2. Then for each number: subtract the Mean and square the result (the squared difference).\n",
        "3. Then work out the average of those squared differences. (Why Square?)\n",
        "\n",
        "**EXAMPLE : \n",
        "The heights are: 10, 20, 30, 40 and 50. Find out the Mean, the Variance, and the Standard Deviation.**\n",
        "\n",
        "**Mean =**\t(10+20+30+40+50)/5 = 150/5 = 30m\n",
        "\n",
        "**Variance =**\n",
        "\n",
        "If we don't square, then result is 0\n",
        "\n",
        "[(30-10)+(30-20)+(30-30)+(30-40)+(30-50)]/5 = [20+10+0-10-20]/5 = 0\n",
        "\n",
        "That's why we square\n",
        "\n",
        "(30-10)^2+(30-20)^2+(30-30)^2+(30-40)^2+(30-50)^2/5 = (400 + 100 + 0 + 100 + 400 )/5 = 1000/5 = 200\n",
        "\n",
        "**Standard Deviation =**\n",
        "\n",
        "Sqaure Root(500) = 22.36 (Same scale of the data)"
      ],
      "metadata": {
        "id": "tFVxaj2w-5O7"
      }
    },
    {
      "cell_type": "code",
      "source": [
        "# Variance\n",
        "fd_customer_data.var().round(2)\n",
        "# The inference is the Variance of Customer Age invested in FD is 3.5, \n",
        "# it is hard to interpret because the variance is not on the same scale as Data. \n",
        "# Refer to Standard Deviation for easy interpretation."
      ],
      "metadata": {
        "colab": {
          "base_uri": "https://localhost:8080/"
        },
        "id": "18zPQWvmsbAi",
        "outputId": "e2eab915-449c-476f-c2bd-c3aba858ecdd"
      },
      "execution_count": 9,
      "outputs": [
        {
          "output_type": "execute_result",
          "data": {
            "text/plain": [
              "Age       3.500000e+00\n",
              "Amount    3.010000e+10\n",
              "dtype: float64"
            ]
          },
          "metadata": {},
          "execution_count": 9
        }
      ]
    },
    {
      "cell_type": "markdown",
      "source": [
        "**STANDARD DEVIATION (SD)**\n",
        "\n",
        "Standard Deviation = Square root(Variance)\n",
        "\n",
        "**SMALL SD** means the values in the dataset are close to the mean of the dataset on average. **LARGE SD** means that the value in the dataset is far away from the mean of the dataset on average.\n",
        "\n",
        "In short, Standard Deviation measures how concentrated the data is around the mean. More Concentration -> Smaller Standard Deviation\n",
        "\n",
        "**A SMALL SD can be the goal in certain situations where results are restricted**\n",
        "\n",
        "For example, In Product manufacturing and Quality Control companies. Suppose a particular type of car part that has to be 2 cm in diameter to properly fit cannot have a very BIG SD in the manufacturing process. A BIG SD would mean most material would end up in the trash because they don't fight right\n",
        "\n",
        "**A HIGH SD reflects a large amount of variation in the group**\n",
        "\n",
        "For example, if we look at the salaries for everyone in the company from intern to CEO, SD may be very large. On another hand, if we see or observe only the intern group, the SD of salary may be low\n",
        "\n",
        "**Few important points about Standard Deviation**\n",
        "SD **can be low or high depending** on the scenario. **Outliers may affect the SD** as the formula contains the mean. SD **cannot be negative and the lowest possible value is 0**. 0 is only possible when every single entity is having the same number (No Deviation). SD has the **same unit as the original data**."
      ],
      "metadata": {
        "id": "_06KHRW7Blua"
      }
    },
    {
      "cell_type": "code",
      "source": [
        "# Standard Deviation\n",
        "fd_customer_data.std().round(2)"
      ],
      "metadata": {
        "colab": {
          "base_uri": "https://localhost:8080/"
        },
        "id": "i6_isdKaAGYd",
        "outputId": "c48a6ab6-b7cc-4357-efea-34b377b30c5f"
      },
      "execution_count": 10,
      "outputs": [
        {
          "output_type": "execute_result",
          "data": {
            "text/plain": [
              "Age            1.87\n",
              "Amount    173493.52\n",
              "dtype: float64"
            ]
          },
          "metadata": {},
          "execution_count": 10
        }
      ]
    },
    {
      "cell_type": "markdown",
      "source": [
        "**SKEWNESS**\n",
        "\n",
        "In the curve of a distribution, the data on the right side of the curve may taper differently from the data on the left side. These taperings are known as \"**tails**\".\n",
        "\n",
        "If the data graphs symmetrically, the distribution has zero skewness, regardless of how long or fat the tails are.\n",
        "\n",
        "- If **Skewness = 0**, data is perfectly symmetrical\n",
        "\n",
        "- If **Skewness is less than -1 or greater than +1**, distribution is highly skewed\n",
        "\n",
        "- If **Skewness is between -1 and -0.5 or between 0.5 and 1**, distribution is moderately skewed\n",
        "\n",
        "- If **Skewness is between -0.5 and 0.5** then it is approximately symmetric"
      ],
      "metadata": {
        "id": "-pcmazRUFt_L"
      }
    },
    {
      "cell_type": "code",
      "source": [
        "# Skewness\n",
        "print(\"Skewness of Customer Age invested in FD :\",fd_customer_data['Age'].skew().round(2))\n",
        "sns.distplot(fd_customer_data['Age'])\n",
        "# The inference is 1.15 is the Skewness of Customer Age (which is moderately skewed)"
      ],
      "metadata": {
        "colab": {
          "base_uri": "https://localhost:8080/",
          "height": 313
        },
        "id": "UHrVz5DuB60Y",
        "outputId": "08717cd4-1d70-406e-c643-997a13910b67"
      },
      "execution_count": 11,
      "outputs": [
        {
          "output_type": "stream",
          "name": "stdout",
          "text": [
            "Skewness of Customer Age invested in FD : 1.15\n"
          ]
        },
        {
          "output_type": "execute_result",
          "data": {
            "text/plain": [
              "<matplotlib.axes._subplots.AxesSubplot at 0x7ff526dab210>"
            ]
          },
          "metadata": {},
          "execution_count": 11
        },
        {
          "output_type": "display_data",
          "data": {
            "text/plain": [
              "<Figure size 432x288 with 1 Axes>"
            ],
            "image/png": "[encoded data removed]"
          },
          "metadata": {
            "needs_background": "light"
          }
        }
      ]
    },
    {
      "cell_type": "markdown",
      "source": [
        "**Kurtosis**\n",
        "\n",
        "Kurtosis is a measure of the tailedness of a distribution. Tailedness is how often outliers occur. Excess kurtosis is the tailedness of a distribution relative to a normal distribution.\n",
        "\n",
        "- Distributions with medium kurtosis (medium tails) are **mesokurtic** (Kurtosis = 3) means Standard Normal Distribution.\n",
        "\n",
        "- Distributions with low kurtosis (thin tails) are **platykurtic** (Kurtosis < 3) means little data on tails.\n",
        "\n",
        "- Distributions with high kurtosis (fat tails) are **leptokurtic** (Kurtosis > 3) means lots of data on tails."
      ],
      "metadata": {
        "id": "cVKmv2zOHUbi"
      }
    },
    {
      "cell_type": "code",
      "source": [
        "# Kurtosis\n",
        "print(\"kurtosis of Customer Age invested in FD :\",fd_customer_data['Age'].kurtosis().round(2))"
      ],
      "metadata": {
        "colab": {
          "base_uri": "https://localhost:8080/"
        },
        "id": "v93ndsEhEsDP",
        "outputId": "297fa534-8967-4dd7-8530-438be61a9a2a"
      },
      "execution_count": 12,
      "outputs": [
        {
          "output_type": "stream",
          "name": "stdout",
          "text": [
            "kurtosis of Customer Age invested in FD : 2.0\n"
          ]
        }
      ]
    },
    {
      "cell_type": "code",
      "source": [
        "# Revision\n",
        "\n",
        "print(\"NUMERICAL MEASURES FOR CUSTOMER AGE\")\n",
        "pd.DataFrame([fd_customer_data['Age'].mean().round(2),fd_customer_data['Age'].median().round(2),\n",
        "              fd_customer_data['Age'].var().round(2), fd_customer_data['Age'].std().round(2),\n",
        "              fd_customer_data['Age'].skew().round(2),fd_customer_data['Age'].kurtosis().round(2)],\n",
        "             index = [\"MEAN\",\"MEDIAN\",\"VARIANCE\",\"STANDARD DEVIATION\",\"SKEWNESS\",\"KURTOSIS\"])"
      ],
      "metadata": {
        "colab": {
          "base_uri": "https://localhost:8080/",
          "height": 252
        },
        "id": "cLnr8cPuIT-f",
        "outputId": "8f5f4bca-21da-4e81-cd8a-c86c78425ab7"
      },
      "execution_count": 13,
      "outputs": [
        {
          "output_type": "stream",
          "name": "stdout",
          "text": [
            "NUMERICAL MEASURES FOR CUSTOMER AGE\n"
          ]
        },
        {
          "output_type": "execute_result",
          "data": {
            "text/plain": [
              "                        0\n",
              "MEAN                28.00\n",
              "MEDIAN              28.00\n",
              "VARIANCE             3.50\n",
              "STANDARD DEVIATION   1.87\n",
              "SKEWNESS             1.15\n",
              "KURTOSIS             2.00"
            ],
            "text/html": [
              "\n",
              "  <div id=\"df-11d262c0-2a1e-4123-8749-8b6b8d664adf\">\n",
              "    <div class=\"colab-df-container\">\n",
              "      <div>\n",
              "<style scoped>\n",
              "    .dataframe tbody tr th:only-of-type {\n",
              "        vertical-align: middle;\n",
              "    }\n",
              "\n",
              "    .dataframe tbody tr th {\n",
              "        vertical-align: top;\n",
              "    }\n",
              "\n",
              "    .dataframe thead th {\n",
              "        text-align: right;\n",
              "    }\n",
              "</style>\n",
              "<table border=\"1\" class=\"dataframe\">\n",
              "  <thead>\n",
              "    <tr style=\"text-align: right;\">\n",
              "      <th></th>\n",
              "      <th>0</th>\n",
              "    </tr>\n",
              "  </thead>\n",
              "  <tbody>\n",
              "    <tr>\n",
              "      <th>MEAN</th>\n",
              "      <td>28.00</td>\n",
              "    </tr>\n",
              "    <tr>\n",
              "      <th>MEDIAN</th>\n",
              "      <td>28.00</td>\n",
              "    </tr>\n",
              "    <tr>\n",
              "      <th>VARIANCE</th>\n",
              "      <td>3.50</td>\n",
              "    </tr>\n",
              "    <tr>\n",
              "      <th>STANDARD DEVIATION</th>\n",
              "      <td>1.87</td>\n",
              "    </tr>\n",
              "    <tr>\n",
              "      <th>SKEWNESS</th>\n",
              "      <td>1.15</td>\n",
              "    </tr>\n",
              "    <tr>\n",
              "      <th>KURTOSIS</th>\n",
              "      <td>2.00</td>\n",
              "    </tr>\n",
              "  </tbody>\n",
              "</table>\n",
              "</div>\n",
              "      <button class=\"colab-df-convert\" onclick=\"convertToInteractive('df-11d262c0-2a1e-4123-8749-8b6b8d664adf')\"\n",
              "              title=\"Convert this dataframe to an interactive table.\"\n",
              "              style=\"display:none;\">\n",
              "        \n",
              "  <svg xmlns=\"http://www.w3.org/2000/svg\" height=\"24px\"viewBox=\"0 0 24 24\"\n",
              "       width=\"24px\">\n",
              "    <path d=\"M0 0h24v24H0V0z\" fill=\"none\"/>\n",
              "    <path d=\"M18.56 5.44l.94 2.06.94-2.06 2.06-.94-2.06-.94-.94-2.06-.94 2.06-2.06.94zm-11 1L8.5 8.5l.94-2.06 2.06-.94-2.06-.94L8.5 2.5l-.94 2.06-2.06.94zm10 10l.94 2.06.94-2.06 2.06-.94-2.06-.94-.94-2.06-.94 2.06-2.06.94z\"/><path d=\"M17.41 7.96l-1.37-1.37c-.4-.4-.92-.59-1.43-.59-.52 0-1.04.2-1.43.59L10.3 9.45l-7.72 7.72c-.78.78-.78 2.05 0 2.83L4 21.41c.39.39.9.59 1.41.59.51 0 1.02-.2 1.41-.59l7.78-7.78 2.81-2.81c.8-.78.8-2.07 0-2.86zM5.41 20L4 18.59l7.72-7.72 1.47 1.35L5.41 20z\"/>\n",
              "  </svg>\n",
              "      </button>\n",
              "      \n",
              "  <style>\n",
              "    .colab-df-container {\n",
              "      display:flex;\n",
              "      flex-wrap:wrap;\n",
              "      gap: 12px;\n",
              "    }\n",
              "\n",
              "    .colab-df-convert {\n",
              "      background-color: #E8F0FE;\n",
              "      border: none;\n",
              "      border-radius: 50%;\n",
              "      cursor: pointer;\n",
              "      display: none;\n",
              "      fill: #1967D2;\n",
              "      height: 32px;\n",
              "      padding: 0 0 0 0;\n",
              "      width: 32px;\n",
              "    }\n",
              "\n",
              "    .colab-df-convert:hover {\n",
              "      background-color: #E2EBFA;\n",
              "      box-shadow: 0px 1px 2px rgba(60, 64, 67, 0.3), 0px 1px 3px 1px rgba(60, 64, 67, 0.15);\n",
              "      fill: #174EA6;\n",
              "    }\n",
              "\n",
              "    [theme=dark] .colab-df-convert {\n",
              "      background-color: #3B4455;\n",
              "      fill: #D2E3FC;\n",
              "    }\n",
              "\n",
              "    [theme=dark] .colab-df-convert:hover {\n",
              "      background-color: #434B5C;\n",
              "      box-shadow: 0px 1px 3px 1px rgba(0, 0, 0, 0.15);\n",
              "      filter: drop-shadow(0px 1px 2px rgba(0, 0, 0, 0.3));\n",
              "      fill: #FFFFFF;\n",
              "    }\n",
              "  </style>\n",
              "\n",
              "      <script>\n",
              "        const buttonEl =\n",
              "          document.querySelector('#df-11d262c0-2a1e-4123-8749-8b6b8d664adf button.colab-df-convert');\n",
              "        buttonEl.style.display =\n",
              "          google.colab.kernel.accessAllowed ? 'block' : 'none';\n",
              "\n",
              "        async function convertToInteractive(key) {\n",
              "          const element = document.querySelector('#df-11d262c0-2a1e-4123-8749-8b6b8d664adf');\n",
              "          const dataTable =\n",
              "            await google.colab.kernel.invokeFunction('convertToInteractive',\n",
              "                                                     [key], {});\n",
              "          if (!dataTable) return;\n",
              "\n",
              "          const docLinkHtml = 'Like what you see? Visit the ' +\n",
              "            '<a target=\"_blank\" href=https://colab.research.google.com/notebooks/data_table.ipynb>data table notebook</a>'\n",
              "            + ' to learn more about interactive tables.';\n",
              "          element.innerHTML = '';\n",
              "          dataTable['output_type'] = 'display_data';\n",
              "          await google.colab.output.renderOutput(dataTable, element);\n",
              "          const docLink = document.createElement('div');\n",
              "          docLink.innerHTML = docLinkHtml;\n",
              "          element.appendChild(docLink);\n",
              "        }\n",
              "      </script>\n",
              "    </div>\n",
              "  </div>\n",
              "  "
            ]
          },
          "metadata": {},
          "execution_count": 13
        }
      ]
    }
  ]
}